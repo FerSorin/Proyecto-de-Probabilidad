{
 "cells": [
  {
   "cell_type": "markdown",
   "id": "a41f3622",
   "metadata": {},
   "source": [
    "# Ejercicios de probabilidad"
   ]
  },
  {
   "cell_type": "markdown",
   "id": "a6bdbd89",
   "metadata": {},
   "source": [
    "## Ejercicio 1 \n",
    "\n",
    "Dos dados se lanzan una vez y se observa el total obtenido. Usa una simulación para encontrar la probabilidad estimada de que la puntuación sea mayor a 7 o un número par. Una simulación es una repetición del mismo experimento multiples veces para observar su comportamiento:\n",
    "\n",
    "- Ejecuta el experimento 1000 veces (lanza 2 dados 1000 veces, y suma el número de ambos dados).\n",
    "- Lleva ua cuenta de los números y las veces que la suma fue mayor a 7 o un número par.\n",
    "- Divide el número del paso 2 entre el número de iteraciones(1000)."
   ]
  },
  {
   "cell_type": "code",
   "execution_count": 1,
   "id": "8939d892",
   "metadata": {},
   "outputs": [
    {
     "name": "stdout",
     "output_type": "stream",
     "text": [
      "Probabilidad estimada después de 1000 iteraciones: 0.6740 o 67.40%\n"
     ]
    }
   ],
   "source": [
    "# TODO\n",
    "import random\n",
    "\n",
    "def simular_lanzamiento_dados():\n",
    "    #Configurar la simulación\n",
    "    num_iteraciones = 1000\n",
    "    contador_favorables = 0\n",
    "    \n",
    "    #Ejecutar el experimento 1000 veces\n",
    "    for _ in range(num_iteraciones):\n",
    "        dado1 = random.randint(1, 6)\n",
    "        dado2 = random.randint(1, 6)\n",
    "        suma = dado1 + dado2\n",
    "        \n",
    "        # Verificar si la suma es mayor a 7 o es par\n",
    "        if suma > 7 or suma % 2 == 0:\n",
    "            contador_favorables += 1\n",
    "    \n",
    "    #Calcular la probabilidad estimada\n",
    "    probabilidad = contador_favorables / num_iteraciones\n",
    "    \n",
    "    return probabilidad\n",
    "\n",
    "# Ejecutar la simulación\n",
    "prob_estimada = simular_lanzamiento_dados()\n",
    "print(f\"Probabilidad estimada después de 1000 iteraciones: {prob_estimada:.4f} o {prob_estimada*100:.2f}%\")"
   ]
  },
  {
   "cell_type": "markdown",
   "id": "55732bca",
   "metadata": {},
   "source": [
    "## Ejercicio 2\n",
    "\n",
    "Una caja contiene 10 bolas blancas, 20 bolas rojas y 30 bolas verdes. Si tomamos 5 bolas de la caja reemplazándolas (tomando una bola, anotando el color y luego regresandola a la caja). Queremos saber la probabilidad de:\n",
    "\n",
    "1. Tomar 3 blancas y 2 rojas.\n",
    "2. Toas todas del mismo color.\n",
    "\n",
    "Ejecuta el experimento 1000 veces y calcula las probabilidades que mencionadas."
   ]
  },
  {
   "cell_type": "code",
   "execution_count": 1,
   "id": "23244d20",
   "metadata": {},
   "outputs": [
    {
     "name": "stdout",
     "output_type": "stream",
     "text": [
      "Probabilidad de 3 blancas y 2 rojas: 0.0040 (0.40%)\n",
      "Probabilidad de todas del mismo color: 0.0450 (4.50%)\n"
     ]
    }
   ],
   "source": [
    "import random\n",
    "\n",
    "# Configuración inicial\n",
    "ball_box = {}\n",
    "white_count = 10\n",
    "red_count = 20\n",
    "green_count = 30\n",
    "total_balls = white_count + red_count + green_count\n",
    "\n",
    "# Crear la caja de bolas (mejor representación)\n",
    "ball_box = []\n",
    "ball_box.extend([\"White\"] * white_count)\n",
    "ball_box.extend([\"Red\"] * red_count)\n",
    "ball_box.extend([\"Green\"] * green_count)\n",
    "\n",
    "# Variables para contar los casos exitosos\n",
    "case1_success = 0  # 3 blancas y 2 rojas\n",
    "case2_success = 0  # Todas del mismo color\n",
    "num_simulations = 1000\n",
    "\n",
    "for _ in range(num_simulations):\n",
    "    # Extraer 5 bolas con reemplazo\n",
    "    sample = random.choices(ball_box, k=5)\n",
    "    \n",
    "    # Contar los colores en la muestra\n",
    "    white = sample.count(\"White\")\n",
    "    red = sample.count(\"Red\")\n",
    "    green = sample.count(\"Green\")\n",
    "    \n",
    "    # Caso 1: 3 blancas y 2 rojas\n",
    "    if white == 3 and red == 2:\n",
    "        case1_success += 1\n",
    "    \n",
    "    # Caso 2: Todas del mismo color (cualquier color)\n",
    "    if white == 5 or red == 5 or green == 5:\n",
    "        case2_success += 1\n",
    "\n",
    "# Calcular probabilidades\n",
    "prob_case1 = case1_success / num_simulations\n",
    "prob_case2 = case2_success / num_simulations\n",
    "\n",
    "print(f\"Probabilidad de 3 blancas y 2 rojas: {prob_case1:.4f} ({prob_case1*100:.2f}%)\")\n",
    "print(f\"Probabilidad de todas del mismo color: {prob_case2:.4f} ({prob_case2*100:.2f}%)\")"
   ]
  }
 ],
 "metadata": {
  "kernelspec": {
   "display_name": "Python 3",
   "language": "python",
   "name": "python3"
  },
  "language_info": {
   "codemirror_mode": {
    "name": "ipython",
    "version": 3
   },
   "file_extension": ".py",
   "mimetype": "text/x-python",
   "name": "python",
   "nbconvert_exporter": "python",
   "pygments_lexer": "ipython3",
   "version": "3.11.4"
  }
 },
 "nbformat": 4,
 "nbformat_minor": 5
}
